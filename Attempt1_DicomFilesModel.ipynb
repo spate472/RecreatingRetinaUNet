{
  "cells": [
    {
      "cell_type": "markdown",
      "metadata": {
        "id": "view-in-github",
        "colab_type": "text"
      },
      "source": [
        "<a href=\"https://colab.research.google.com/github/spate472/RecreatingRetinaUNet/blob/main/Attempt1_DicomFilesModel.ipynb\" target=\"_parent\"><img src=\"https://colab.research.google.com/assets/colab-badge.svg\" alt=\"Open In Colab\"/></a>"
      ]
    },
    {
      "cell_type": "code",
      "execution_count": null,
      "metadata": {
        "id": "fHDsmqNRfRCU"
      },
      "outputs": [],
      "source": [
        "from google.colab import drive\n",
        "drive.mount('/content/drive')"
      ]
    },
    {
      "cell_type": "code",
      "execution_count": null,
      "metadata": {
        "id": "NAoQ_Lh3fV9z"
      },
      "outputs": [],
      "source": [
        "!pip install pyhealth pydicom scikit-image matplotlib\n",
        "!pip install pandas==2.2.2\n",
        "!pip install torch torchvision"
      ]
    },
    {
      "cell_type": "code",
      "execution_count": null,
      "metadata": {
        "id": "-Av2uTeagx1J"
      },
      "outputs": [],
      "source": [
        "import pydicom\n",
        "import pandas\n",
        "import numpy\n",
        "import pyhealth\n",
        "import skimage\n",
        "\n",
        "print(pydicom.__version__)\n",
        "print(pandas.__version__)\n",
        "print(numpy.__version__)\n",
        "print(pyhealth.__version__)\n",
        "print(skimage.__version__)"
      ]
    },
    {
      "cell_type": "code",
      "execution_count": null,
      "metadata": {
        "id": "dx0qywNdl3G_"
      },
      "outputs": [],
      "source": [
        "import os\n",
        "import pydicom\n",
        "\n",
        "\n",
        "def get_dcm_file_paths(folder_path):\n",
        "  \"\"\"Gets the full paths of all .dcm files within a folder and its subfolders.\n",
        "\n",
        "  Args:\n",
        "    folder_path: The path to the folder.\n",
        "\n",
        "  Returns:\n",
        "    A list of the full paths of the .dcm files.\n",
        "  \"\"\"\n",
        "  file_paths = []\n",
        "  for item in os.listdir(folder_path):\n",
        "    item_path = os.path.join(folder_path, item)\n",
        "    if os.path.isfile(item_path) and item.lower().endswith(\".dcm\"):\n",
        "      file_paths.append(item_path)\n",
        "    elif os.path.isdir(item_path):\n",
        "      file_paths.extend(get_dcm_file_paths(item_path))  # Recursive call\n",
        "  return file_paths\n",
        "\n",
        "# Get the path to the folder, assuming it's in your Drive\n",
        "folder_path = '/content/drive/MyDrive/DLH_Project/RetinaUNetDataset'\n",
        "\n",
        "file_paths = get_dcm_file_paths(folder_path)\n",
        "\n",
        "file_paths = file_paths[0:100]  # Extract the first 1000 elements\n",
        "\n",
        "# Print the subset of file paths with index\n",
        "for index, file_path in enumerate(file_paths):\n",
        "  print(f\"Index: {index}, File Path: {file_path}\")"
      ]
    },
    {
      "cell_type": "code",
      "execution_count": null,
      "metadata": {
        "id": "T4OYKTOWl_CS"
      },
      "outputs": [],
      "source": [
        "import numpy as np\n",
        "from skimage.transform import resize\n",
        "import pydicom\n",
        "\n",
        "def process_dicom_image(file_path, target_shape=(128, 128)):\n",
        "    \"\"\"Processes a DICOM image file.\n",
        "\n",
        "    Args:\n",
        "        file_path (str): The path to the DICOM file.\n",
        "        target_shape (tuple, optional): The desired shape of the output image. Defaults to (128, 128).\n",
        "\n",
        "    Returns:\n",
        "        numpy.ndarray: The processed image as a flattened array.\n",
        "                         Returns None if the file does not contain pixel data.\n",
        "    \"\"\"\n",
        "    ds = pydicom.dcmread(file_path)\n",
        "\n",
        "    # Check if the DICOM file contains pixel data\n",
        "    if not hasattr(ds, 'PixelData'):\n",
        "        print(f\"Warning: DICOM file '{file_path}' does not contain pixel data. Skipping.\")\n",
        "        return None\n",
        "\n",
        "    img = ds.pixel_array.astype(np.float32)\n",
        "\n",
        "    # Normalize\n",
        "    img = (img - np.min(img)) / (np.max(img) - np.min(img) + 1e-5)\n",
        "\n",
        "    # Resize\n",
        "    img_resized = resize(img, target_shape)\n",
        "\n",
        "    # Flatten\n",
        "    return img_resized.flatten()"
      ]
    },
    {
      "cell_type": "code",
      "execution_count": null,
      "metadata": {
        "id": "IWMD0H0CmEGX"
      },
      "outputs": [],
      "source": [
        "from pyhealth.data import Patient, Visit, Event\n",
        "\n",
        "def build_patient_from_dicom(file_path, patient_id):\n",
        "    vector = process_dicom_image(file_path)\n",
        "\n",
        "    # Check if vector is None before proceeding\n",
        "    if vector is None:\n",
        "        print(f\"Skipping file {file_path} due to missing or invalid pixel data.\")\n",
        "        return None  # or handle it differently\n",
        "\n",
        "    # Build patient & visit\n",
        "    patient = Patient(patient_id)\n",
        "    visit = Visit(visit_id=f\"{patient_id}-1\", patient_id=patient_id, timestamp=0)\n",
        "\n",
        "    # Create an Event object and pass it to add_event()\n",
        "    event = Event(visit_id=visit.visit_id, patient_id=patient.patient_id, event_name=\"image\", event_value=vector.tolist())\n",
        "    visit.add_event(event)\n",
        "    patient.add_visit(visit)\n",
        "    print(patient)\n",
        "    return patient"
      ]
    },
    {
      "cell_type": "code",
      "execution_count": null,
      "metadata": {
        "id": "1Xr6uzuBdB1U"
      },
      "outputs": [],
      "source": [
        "from pyhealth.datasets import SampleEHRDataset\n",
        "\n",
        "patients = []\n",
        "\n",
        "for idx, file_path in enumerate(file_paths):\n",
        "    print(f\"Index: {idx}, Processing {file_path}\")\n",
        "    pid = f\"patient{idx}\"\n",
        "    patient = build_patient_from_dicom(file_path, pid)\n",
        "    # Only append valid patient data to the list\n",
        "    if patient is not None:\n",
        "        # Convert Patient object to dictionary using to_dict() method\n",
        "        patients.append(patient)\n",
        "\n",
        "# Initialize the SampleEHRDataset with the 'patients' list\n",
        "dataset = SampleEHRDataset(dataset_name=\"dicom_dataset\", samples=patients)"
      ]
    },
    {
      "cell_type": "code",
      "execution_count": null,
      "metadata": {
        "id": "Y09wRqOpYBKm"
      },
      "outputs": [],
      "source": [
        "def dummy_label_fn(patient):\n",
        "    return 1 if \"positive\" in patient.patient_id else 0\n",
        "\n",
        "task = dataset.get_patient_prediction_task(\n",
        "    task_name=\"dummy_binary_classification\",\n",
        "    label_fn=dummy_label_fn,\n",
        "    feature_keys=[\"image\"],\n",
        ")\n"
      ]
    },
    {
      "cell_type": "code",
      "execution_count": null,
      "metadata": {
        "id": "8_xyASPdYFjk"
      },
      "outputs": [],
      "source": [
        "from pyhealth.models import RNN  # or MLP for static features\n",
        "from pyhealth.trainer import Trainer\n",
        "\n",
        "model = RNN(dataset=dataset, feature_keys=[\"image\"], label_key=\"label\")\n",
        "\n",
        "trainer = Trainer(model=model, dataset=dataset, task=task)\n",
        "trainer.train()\n"
      ]
    }
  ],
  "metadata": {
    "colab": {
      "provenance": [],
      "gpuType": "T4",
      "authorship_tag": "ABX9TyN9WnlNhQ3bjW8zhmEbqtaE",
      "include_colab_link": true
    },
    "kernelspec": {
      "display_name": "Python 3",
      "name": "python3"
    },
    "language_info": {
      "name": "python"
    },
    "accelerator": "GPU"
  },
  "nbformat": 4,
  "nbformat_minor": 0
}